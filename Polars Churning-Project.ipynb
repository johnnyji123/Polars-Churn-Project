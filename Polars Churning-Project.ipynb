{
 "cells": [
  {
   "cell_type": "code",
   "execution_count": 16,
   "id": "7220c967",
   "metadata": {},
   "outputs": [
    {
     "name": "stdout",
     "output_type": "stream",
     "text": [
      "Requirement already satisfied: polars in c:\\users\\jj_jo\\anaconda3\\lib\\site-packages (0.19.15)\n"
     ]
    },
    {
     "data": {
      "text/html": [
       "<div><style>\n",
       ".dataframe > thead > tr,\n",
       ".dataframe > tbody > tr {\n",
       "  text-align: right;\n",
       "  white-space: pre-wrap;\n",
       "}\n",
       "</style>\n",
       "<small>shape: (3_150, 14)</small><table border=\"1\" class=\"dataframe\"><thead><tr><th>Call Failure</th><th>Complaints</th><th>Subscription Length</th><th>Charge Amount</th><th>Seconds of Use</th><th>Frequency of use</th><th>Frequency of SMS</th><th>Distinct Called Numbers</th><th>Age Group</th><th>Tariff Plan</th><th>Status</th><th>Age</th><th>Customer Value</th><th>Churn</th></tr><tr><td>i64</td><td>i64</td><td>i64</td><td>i64</td><td>i64</td><td>i64</td><td>i64</td><td>i64</td><td>i64</td><td>i64</td><td>i64</td><td>i64</td><td>f64</td><td>i64</td></tr></thead><tbody><tr><td>8</td><td>0</td><td>38</td><td>0</td><td>4370</td><td>71</td><td>5</td><td>17</td><td>3</td><td>1</td><td>1</td><td>30</td><td>197.64</td><td>0</td></tr><tr><td>0</td><td>0</td><td>39</td><td>0</td><td>318</td><td>5</td><td>7</td><td>4</td><td>2</td><td>1</td><td>2</td><td>25</td><td>46.035</td><td>0</td></tr><tr><td>10</td><td>0</td><td>37</td><td>0</td><td>2453</td><td>60</td><td>359</td><td>24</td><td>3</td><td>1</td><td>1</td><td>30</td><td>1536.52</td><td>0</td></tr><tr><td>10</td><td>0</td><td>38</td><td>0</td><td>4198</td><td>66</td><td>1</td><td>35</td><td>1</td><td>1</td><td>1</td><td>15</td><td>240.02</td><td>0</td></tr><tr><td>3</td><td>0</td><td>38</td><td>0</td><td>2393</td><td>58</td><td>2</td><td>33</td><td>1</td><td>1</td><td>1</td><td>15</td><td>145.805</td><td>0</td></tr><tr><td>11</td><td>0</td><td>38</td><td>1</td><td>3775</td><td>82</td><td>32</td><td>28</td><td>3</td><td>1</td><td>1</td><td>30</td><td>282.28</td><td>0</td></tr><tr><td>4</td><td>0</td><td>38</td><td>0</td><td>2360</td><td>39</td><td>285</td><td>18</td><td>3</td><td>1</td><td>1</td><td>30</td><td>1235.96</td><td>0</td></tr><tr><td>13</td><td>0</td><td>37</td><td>2</td><td>9115</td><td>121</td><td>144</td><td>43</td><td>3</td><td>1</td><td>1</td><td>30</td><td>945.44</td><td>0</td></tr><tr><td>7</td><td>0</td><td>38</td><td>0</td><td>13773</td><td>169</td><td>0</td><td>44</td><td>3</td><td>1</td><td>1</td><td>30</td><td>557.68</td><td>0</td></tr><tr><td>7</td><td>0</td><td>38</td><td>1</td><td>4515</td><td>83</td><td>2</td><td>25</td><td>3</td><td>1</td><td>1</td><td>30</td><td>191.92</td><td>0</td></tr><tr><td>6</td><td>0</td><td>38</td><td>0</td><td>5918</td><td>95</td><td>7</td><td>12</td><td>3</td><td>1</td><td>1</td><td>30</td><td>268.52</td><td>0</td></tr><tr><td>9</td><td>0</td><td>38</td><td>0</td><td>2238</td><td>54</td><td>8</td><td>17</td><td>3</td><td>1</td><td>2</td><td>30</td><td>123.68</td><td>0</td></tr><tr><td>&hellip;</td><td>&hellip;</td><td>&hellip;</td><td>&hellip;</td><td>&hellip;</td><td>&hellip;</td><td>&hellip;</td><td>&hellip;</td><td>&hellip;</td><td>&hellip;</td><td>&hellip;</td><td>&hellip;</td><td>&hellip;</td><td>&hellip;</td></tr><tr><td>9</td><td>0</td><td>29</td><td>2</td><td>1620</td><td>42</td><td>200</td><td>13</td><td>3</td><td>2</td><td>1</td><td>30</td><td>866.48</td><td>0</td></tr><tr><td>9</td><td>0</td><td>28</td><td>1</td><td>1873</td><td>45</td><td>37</td><td>70</td><td>5</td><td>1</td><td>1</td><td>55</td><td>84.27</td><td>0</td></tr><tr><td>16</td><td>0</td><td>29</td><td>0</td><td>1005</td><td>31</td><td>17</td><td>9</td><td>3</td><td>1</td><td>2</td><td>30</td><td>109.44</td><td>0</td></tr><tr><td>5</td><td>0</td><td>28</td><td>0</td><td>1130</td><td>16</td><td>28</td><td>5</td><td>4</td><td>1</td><td>2</td><td>45</td><td>98.65</td><td>0</td></tr><tr><td>15</td><td>0</td><td>27</td><td>1</td><td>1530</td><td>38</td><td>26</td><td>15</td><td>2</td><td>1</td><td>1</td><td>25</td><td>187.56</td><td>0</td></tr><tr><td>7</td><td>0</td><td>27</td><td>1</td><td>3530</td><td>67</td><td>15</td><td>25</td><td>3</td><td>1</td><td>1</td><td>30</td><td>203.88</td><td>0</td></tr><tr><td>7</td><td>0</td><td>20</td><td>1</td><td>2000</td><td>32</td><td>35</td><td>16</td><td>3</td><td>1</td><td>1</td><td>30</td><td>221.28</td><td>0</td></tr><tr><td>21</td><td>0</td><td>19</td><td>2</td><td>6697</td><td>147</td><td>92</td><td>44</td><td>2</td><td>2</td><td>1</td><td>25</td><td>721.98</td><td>0</td></tr><tr><td>17</td><td>0</td><td>17</td><td>1</td><td>9237</td><td>177</td><td>80</td><td>42</td><td>5</td><td>1</td><td>1</td><td>55</td><td>261.21</td><td>0</td></tr><tr><td>13</td><td>0</td><td>18</td><td>4</td><td>3157</td><td>51</td><td>38</td><td>21</td><td>3</td><td>1</td><td>1</td><td>30</td><td>280.32</td><td>0</td></tr><tr><td>7</td><td>0</td><td>11</td><td>2</td><td>4695</td><td>46</td><td>222</td><td>12</td><td>3</td><td>1</td><td>1</td><td>30</td><td>1077.64</td><td>0</td></tr><tr><td>8</td><td>1</td><td>11</td><td>2</td><td>1792</td><td>25</td><td>7</td><td>9</td><td>3</td><td>1</td><td>1</td><td>30</td><td>100.68</td><td>1</td></tr></tbody></table></div>"
      ],
      "text/plain": [
       "shape: (3_150, 14)\n",
       "┌──────────────┬────────────┬─────────────────────┬───────────────┬───┬────────┬─────┬────────────────┬───────┐\n",
       "│ Call Failure ┆ Complaints ┆ Subscription Length ┆ Charge Amount ┆ … ┆ Status ┆ Age ┆ Customer Value ┆ Churn │\n",
       "│ ---          ┆ ---        ┆ ---                 ┆ ---           ┆   ┆ ---    ┆ --- ┆ ---            ┆ ---   │\n",
       "│ i64          ┆ i64        ┆ i64                 ┆ i64           ┆   ┆ i64    ┆ i64 ┆ f64            ┆ i64   │\n",
       "╞══════════════╪════════════╪═════════════════════╪═══════════════╪═══╪════════╪═════╪════════════════╪═══════╡\n",
       "│ 8            ┆ 0          ┆ 38                  ┆ 0             ┆ … ┆ 1      ┆ 30  ┆ 197.64         ┆ 0     │\n",
       "│ 0            ┆ 0          ┆ 39                  ┆ 0             ┆ … ┆ 2      ┆ 25  ┆ 46.035         ┆ 0     │\n",
       "│ 10           ┆ 0          ┆ 37                  ┆ 0             ┆ … ┆ 1      ┆ 30  ┆ 1536.52        ┆ 0     │\n",
       "│ 10           ┆ 0          ┆ 38                  ┆ 0             ┆ … ┆ 1      ┆ 15  ┆ 240.02         ┆ 0     │\n",
       "│ …            ┆ …          ┆ …                   ┆ …             ┆ … ┆ …      ┆ …   ┆ …              ┆ …     │\n",
       "│ 17           ┆ 0          ┆ 17                  ┆ 1             ┆ … ┆ 1      ┆ 55  ┆ 261.21         ┆ 0     │\n",
       "│ 13           ┆ 0          ┆ 18                  ┆ 4             ┆ … ┆ 1      ┆ 30  ┆ 280.32         ┆ 0     │\n",
       "│ 7            ┆ 0          ┆ 11                  ┆ 2             ┆ … ┆ 1      ┆ 30  ┆ 1077.64        ┆ 0     │\n",
       "│ 8            ┆ 1          ┆ 11                  ┆ 2             ┆ … ┆ 1      ┆ 30  ┆ 100.68         ┆ 1     │\n",
       "└──────────────┴────────────┴─────────────────────┴───────────────┴───┴────────┴─────┴────────────────┴───────┘"
      ]
     },
     "execution_count": 16,
     "metadata": {},
     "output_type": "execute_result"
    }
   ],
   "source": [
    "import pandas as pd\n",
    "!pip install polars\n",
    "import polars as pl\n",
    "import matplotlib.pyplot as plt\n",
    "import seaborn as sns\n",
    "import numpy as np\n",
    "\n",
    "df = pl.read_csv(r\"C:\\Users\\jj_jo\\Documents\\Customer churn project.csv\")\n",
    "df\n"
   ]
  },
  {
   "cell_type": "code",
   "execution_count": 17,
   "id": "00a00118",
   "metadata": {},
   "outputs": [
    {
     "data": {
      "text/html": [
       "<div><style>\n",
       ".dataframe > thead > tr,\n",
       ".dataframe > tbody > tr {\n",
       "  text-align: right;\n",
       "  white-space: pre-wrap;\n",
       "}\n",
       "</style>\n",
       "<small>shape: (5, 4)</small><table border=\"1\" class=\"dataframe\"><thead><tr><th>Age Group</th><th>Frequency of SMS</th><th>Frequency of use</th><th>Age</th></tr><tr><td>i64</td><td>i64</td><td>i64</td><td>f64</td></tr></thead><tbody><tr><td>3</td><td>128311</td><td>97531</td><td>30.0</td></tr><tr><td>2</td><td>78293</td><td>74742</td><td>25.0</td></tr><tr><td>4</td><td>16611</td><td>23922</td><td>45.0</td></tr><tr><td>5</td><td>4802</td><td>13179</td><td>55.0</td></tr><tr><td>1</td><td>2484</td><td>9427</td><td>15.0</td></tr></tbody></table></div>"
      ],
      "text/plain": [
       "shape: (5, 4)\n",
       "┌───────────┬──────────────────┬──────────────────┬──────┐\n",
       "│ Age Group ┆ Frequency of SMS ┆ Frequency of use ┆ Age  │\n",
       "│ ---       ┆ ---              ┆ ---              ┆ ---  │\n",
       "│ i64       ┆ i64              ┆ i64              ┆ f64  │\n",
       "╞═══════════╪══════════════════╪══════════════════╪══════╡\n",
       "│ 3         ┆ 128311           ┆ 97531            ┆ 30.0 │\n",
       "│ 2         ┆ 78293            ┆ 74742            ┆ 25.0 │\n",
       "│ 4         ┆ 16611            ┆ 23922            ┆ 45.0 │\n",
       "│ 5         ┆ 4802             ┆ 13179            ┆ 55.0 │\n",
       "│ 1         ┆ 2484             ┆ 9427             ┆ 15.0 │\n",
       "└───────────┴──────────────────┴──────────────────┴──────┘"
      ]
     },
     "execution_count": 17,
     "metadata": {},
     "output_type": "execute_result"
    }
   ],
   "source": [
    "# Which age groups send more SMS messages than make phone calls?\n",
    "# gathering all data I need\n",
    "\n",
    "age_group_data = df.group_by(\"Age Group\").agg(\n",
    "    [pl.col(\"Frequency of SMS\").sum(), pl.col(\"Frequency of use\").sum(), pl.col(\"Age\").mean()]\n",
    ")\n",
    "\n",
    "age_group_data = age_group_data.sort(\"Frequency of SMS\", descending = True)\n",
    "age_group_data\n",
    "\n",
    "# age group 3 and 2 sends more SMS than make phone calls"
   ]
  },
  {
   "cell_type": "code",
   "execution_count": 18,
   "id": "af8a389c",
   "metadata": {},
   "outputs": [
    {
     "data": {
      "text/html": [
       "<div><style>\n",
       ".dataframe > thead > tr,\n",
       ".dataframe > tbody > tr {\n",
       "  text-align: right;\n",
       "  white-space: pre-wrap;\n",
       "}\n",
       "</style>\n",
       "<small>shape: (5, 5)</small><table border=\"1\" class=\"dataframe\"><thead><tr><th>Age Group</th><th>Frequency of SMS</th><th>Frequency of phone calls</th><th>Age</th><th>percent change</th></tr><tr><td>i64</td><td>i64</td><td>i64</td><td>f64</td><td>f64</td></tr></thead><tbody><tr><td>3</td><td>128311</td><td>97531</td><td>30.0</td><td>31.559197</td></tr><tr><td>2</td><td>78293</td><td>74742</td><td>25.0</td><td>4.75101</td></tr><tr><td>4</td><td>16611</td><td>23922</td><td>45.0</td><td>-30.561826</td></tr><tr><td>5</td><td>4802</td><td>13179</td><td>55.0</td><td>-63.563245</td></tr><tr><td>1</td><td>2484</td><td>9427</td><td>15.0</td><td>-73.650154</td></tr></tbody></table></div>"
      ],
      "text/plain": [
       "shape: (5, 5)\n",
       "┌───────────┬──────────────────┬──────────────────────────┬──────┬────────────────┐\n",
       "│ Age Group ┆ Frequency of SMS ┆ Frequency of phone calls ┆ Age  ┆ percent change │\n",
       "│ ---       ┆ ---              ┆ ---                      ┆ ---  ┆ ---            │\n",
       "│ i64       ┆ i64              ┆ i64                      ┆ f64  ┆ f64            │\n",
       "╞═══════════╪══════════════════╪══════════════════════════╪══════╪════════════════╡\n",
       "│ 3         ┆ 128311           ┆ 97531                    ┆ 30.0 ┆ 31.559197      │\n",
       "│ 2         ┆ 78293            ┆ 74742                    ┆ 25.0 ┆ 4.75101        │\n",
       "│ 4         ┆ 16611            ┆ 23922                    ┆ 45.0 ┆ -30.561826     │\n",
       "│ 5         ┆ 4802             ┆ 13179                    ┆ 55.0 ┆ -63.563245     │\n",
       "│ 1         ┆ 2484             ┆ 9427                     ┆ 15.0 ┆ -73.650154     │\n",
       "└───────────┴──────────────────┴──────────────────────────┴──────┴────────────────┘"
      ]
     },
     "execution_count": 18,
     "metadata": {},
     "output_type": "execute_result"
    }
   ],
   "source": [
    "# compute difference in percentage\n",
    "age_group_data = age_group_data.rename({\"Frequency of use\": \"Frequency of phone calls\"})\n",
    "\n",
    "age_group_data = age_group_data.with_columns(\n",
    "    ((pl.col(\"Frequency of SMS\") - pl.col(\"Frequency of phone calls\")) / pl.col(\"Frequency of phone calls\") * 100).alias(\"percent change\")\n",
    "    \n",
    ")\n",
    "\n",
    "age_group_data\n",
    "\n",
    "# This shows that people in age group 3 send 31% more SMS than they make phone calls\n",
    "# People in age group 2 send 4.7% more SMS than they make phone calls\n",
    "# On the other hand, people in age group 4 make 30% more phone calls than they send SMS"
   ]
  },
  {
   "cell_type": "code",
   "execution_count": 19,
   "id": "86e03bc6",
   "metadata": {},
   "outputs": [
    {
     "data": {
      "text/html": [
       "<div><style>\n",
       ".dataframe > thead > tr,\n",
       ".dataframe > tbody > tr {\n",
       "  text-align: right;\n",
       "  white-space: pre-wrap;\n",
       "}\n",
       "</style>\n",
       "<small>shape: (5, 5)</small><table border=\"1\" class=\"dataframe\"><thead><tr><th>Age Group</th><th>Frequency of SMS</th><th>Frequency of phone calls</th><th>Age</th><th>percent change</th></tr><tr><td>i64</td><td>i64</td><td>i64</td><td>f64</td><td>f64</td></tr></thead><tbody><tr><td>3</td><td>128311</td><td>97531</td><td>30.0</td><td>31.559197</td></tr><tr><td>2</td><td>78293</td><td>74742</td><td>25.0</td><td>4.75101</td></tr><tr><td>4</td><td>16611</td><td>23922</td><td>45.0</td><td>-30.561826</td></tr><tr><td>5</td><td>4802</td><td>13179</td><td>55.0</td><td>-63.563245</td></tr><tr><td>1</td><td>2484</td><td>9427</td><td>15.0</td><td>-73.650154</td></tr></tbody></table></div>"
      ],
      "text/plain": [
       "shape: (5, 5)\n",
       "┌───────────┬──────────────────┬──────────────────────────┬──────┬────────────────┐\n",
       "│ Age Group ┆ Frequency of SMS ┆ Frequency of phone calls ┆ Age  ┆ percent change │\n",
       "│ ---       ┆ ---              ┆ ---                      ┆ ---  ┆ ---            │\n",
       "│ i64       ┆ i64              ┆ i64                      ┆ f64  ┆ f64            │\n",
       "╞═══════════╪══════════════════╪══════════════════════════╪══════╪════════════════╡\n",
       "│ 3         ┆ 128311           ┆ 97531                    ┆ 30.0 ┆ 31.559197      │\n",
       "│ 2         ┆ 78293            ┆ 74742                    ┆ 25.0 ┆ 4.75101        │\n",
       "│ 4         ┆ 16611            ┆ 23922                    ┆ 45.0 ┆ -30.561826     │\n",
       "│ 5         ┆ 4802             ┆ 13179                    ┆ 55.0 ┆ -63.563245     │\n",
       "│ 1         ┆ 2484             ┆ 9427                     ┆ 15.0 ┆ -73.650154     │\n",
       "└───────────┴──────────────────┴──────────────────────────┴──────┴────────────────┘"
      ]
     },
     "execution_count": 19,
     "metadata": {},
     "output_type": "execute_result"
    }
   ],
   "source": [
    "# find out average age in each group\n",
    "#age_group_data = age_group_data.rename({\"Age\": \"Avg age\"})\n",
    "age_group_data\n",
    "\n",
    "# We can see age group 3 and 2 use SMS more than they make phone calls\n",
    "# The average age in these two groups are 30 and 25"
   ]
  },
  {
   "cell_type": "code",
   "execution_count": 20,
   "id": "ca934ad2",
   "metadata": {},
   "outputs": [
    {
     "name": "stderr",
     "output_type": "stream",
     "text": [
      "C:\\Users\\jj_jo\\AppData\\Local\\Temp\\ipykernel_3304\\1805320262.py:13: DeprecationWarning: in a future version, string input will be parsed as a column name rather than a string literal. To silence this warning, pass the input as an expression instead: `pl.lit('Short')`\n",
      "  pl.when(pl.col(\"Seconds of Use\") < mean - std).then(\"Short\")\n",
      "C:\\Users\\jj_jo\\AppData\\Local\\Temp\\ipykernel_3304\\1805320262.py:14: DeprecationWarning: in a future version, string input will be parsed as a column name rather than a string literal. To silence this warning, pass the input as an expression instead: `pl.lit('Medium')`\n",
      "  .when((mean - std <= pl.col(\"Seconds of Use\")) & (pl.col(\"Seconds of Use\") <= mean + std)).then(\"Medium\")\n",
      "C:\\Users\\jj_jo\\AppData\\Local\\Temp\\ipykernel_3304\\1805320262.py:15: DeprecationWarning: in a future version, string input will be parsed as a column name rather than a string literal. To silence this warning, pass the input as an expression instead: `pl.lit('Long')`\n",
      "  .when(pl.col(\"Seconds of Use\") >= mean + std).then(\"Long\")\n"
     ]
    },
    {
     "data": {
      "text/html": [
       "<div><style>\n",
       ".dataframe > thead > tr,\n",
       ".dataframe > tbody > tr {\n",
       "  text-align: right;\n",
       "  white-space: pre-wrap;\n",
       "}\n",
       "</style>\n",
       "<small>shape: (3_150, 15)</small><table border=\"1\" class=\"dataframe\"><thead><tr><th>Call Failure</th><th>Complaints</th><th>Subscription Length</th><th>Charge Amount</th><th>Seconds of Use</th><th>Frequency of use</th><th>Frequency of SMS</th><th>Distinct Called Numbers</th><th>Age Group</th><th>Tariff Plan</th><th>Status</th><th>Age</th><th>Customer Value</th><th>Churn</th><th>Call length</th></tr><tr><td>i64</td><td>i64</td><td>i64</td><td>i64</td><td>i64</td><td>i64</td><td>i64</td><td>i64</td><td>i64</td><td>i64</td><td>i64</td><td>i64</td><td>f64</td><td>i64</td><td>str</td></tr></thead><tbody><tr><td>8</td><td>0</td><td>38</td><td>0</td><td>4370</td><td>71</td><td>5</td><td>17</td><td>3</td><td>1</td><td>1</td><td>30</td><td>197.64</td><td>0</td><td>&quot;Medium&quot;</td></tr><tr><td>0</td><td>0</td><td>39</td><td>0</td><td>318</td><td>5</td><td>7</td><td>4</td><td>2</td><td>1</td><td>2</td><td>25</td><td>46.035</td><td>0</td><td>&quot;Medium&quot;</td></tr><tr><td>10</td><td>0</td><td>37</td><td>0</td><td>2453</td><td>60</td><td>359</td><td>24</td><td>3</td><td>1</td><td>1</td><td>30</td><td>1536.52</td><td>0</td><td>&quot;Medium&quot;</td></tr><tr><td>10</td><td>0</td><td>38</td><td>0</td><td>4198</td><td>66</td><td>1</td><td>35</td><td>1</td><td>1</td><td>1</td><td>15</td><td>240.02</td><td>0</td><td>&quot;Medium&quot;</td></tr><tr><td>3</td><td>0</td><td>38</td><td>0</td><td>2393</td><td>58</td><td>2</td><td>33</td><td>1</td><td>1</td><td>1</td><td>15</td><td>145.805</td><td>0</td><td>&quot;Medium&quot;</td></tr><tr><td>11</td><td>0</td><td>38</td><td>1</td><td>3775</td><td>82</td><td>32</td><td>28</td><td>3</td><td>1</td><td>1</td><td>30</td><td>282.28</td><td>0</td><td>&quot;Medium&quot;</td></tr><tr><td>4</td><td>0</td><td>38</td><td>0</td><td>2360</td><td>39</td><td>285</td><td>18</td><td>3</td><td>1</td><td>1</td><td>30</td><td>1235.96</td><td>0</td><td>&quot;Medium&quot;</td></tr><tr><td>13</td><td>0</td><td>37</td><td>2</td><td>9115</td><td>121</td><td>144</td><td>43</td><td>3</td><td>1</td><td>1</td><td>30</td><td>945.44</td><td>0</td><td>&quot;Long&quot;</td></tr><tr><td>7</td><td>0</td><td>38</td><td>0</td><td>13773</td><td>169</td><td>0</td><td>44</td><td>3</td><td>1</td><td>1</td><td>30</td><td>557.68</td><td>0</td><td>&quot;Long&quot;</td></tr><tr><td>7</td><td>0</td><td>38</td><td>1</td><td>4515</td><td>83</td><td>2</td><td>25</td><td>3</td><td>1</td><td>1</td><td>30</td><td>191.92</td><td>0</td><td>&quot;Medium&quot;</td></tr><tr><td>6</td><td>0</td><td>38</td><td>0</td><td>5918</td><td>95</td><td>7</td><td>12</td><td>3</td><td>1</td><td>1</td><td>30</td><td>268.52</td><td>0</td><td>&quot;Medium&quot;</td></tr><tr><td>9</td><td>0</td><td>38</td><td>0</td><td>2238</td><td>54</td><td>8</td><td>17</td><td>3</td><td>1</td><td>2</td><td>30</td><td>123.68</td><td>0</td><td>&quot;Medium&quot;</td></tr><tr><td>&hellip;</td><td>&hellip;</td><td>&hellip;</td><td>&hellip;</td><td>&hellip;</td><td>&hellip;</td><td>&hellip;</td><td>&hellip;</td><td>&hellip;</td><td>&hellip;</td><td>&hellip;</td><td>&hellip;</td><td>&hellip;</td><td>&hellip;</td><td>&hellip;</td></tr><tr><td>9</td><td>0</td><td>29</td><td>2</td><td>1620</td><td>42</td><td>200</td><td>13</td><td>3</td><td>2</td><td>1</td><td>30</td><td>866.48</td><td>0</td><td>&quot;Medium&quot;</td></tr><tr><td>9</td><td>0</td><td>28</td><td>1</td><td>1873</td><td>45</td><td>37</td><td>70</td><td>5</td><td>1</td><td>1</td><td>55</td><td>84.27</td><td>0</td><td>&quot;Medium&quot;</td></tr><tr><td>16</td><td>0</td><td>29</td><td>0</td><td>1005</td><td>31</td><td>17</td><td>9</td><td>3</td><td>1</td><td>2</td><td>30</td><td>109.44</td><td>0</td><td>&quot;Medium&quot;</td></tr><tr><td>5</td><td>0</td><td>28</td><td>0</td><td>1130</td><td>16</td><td>28</td><td>5</td><td>4</td><td>1</td><td>2</td><td>45</td><td>98.65</td><td>0</td><td>&quot;Medium&quot;</td></tr><tr><td>15</td><td>0</td><td>27</td><td>1</td><td>1530</td><td>38</td><td>26</td><td>15</td><td>2</td><td>1</td><td>1</td><td>25</td><td>187.56</td><td>0</td><td>&quot;Medium&quot;</td></tr><tr><td>7</td><td>0</td><td>27</td><td>1</td><td>3530</td><td>67</td><td>15</td><td>25</td><td>3</td><td>1</td><td>1</td><td>30</td><td>203.88</td><td>0</td><td>&quot;Medium&quot;</td></tr><tr><td>7</td><td>0</td><td>20</td><td>1</td><td>2000</td><td>32</td><td>35</td><td>16</td><td>3</td><td>1</td><td>1</td><td>30</td><td>221.28</td><td>0</td><td>&quot;Medium&quot;</td></tr><tr><td>21</td><td>0</td><td>19</td><td>2</td><td>6697</td><td>147</td><td>92</td><td>44</td><td>2</td><td>2</td><td>1</td><td>25</td><td>721.98</td><td>0</td><td>&quot;Medium&quot;</td></tr><tr><td>17</td><td>0</td><td>17</td><td>1</td><td>9237</td><td>177</td><td>80</td><td>42</td><td>5</td><td>1</td><td>1</td><td>55</td><td>261.21</td><td>0</td><td>&quot;Long&quot;</td></tr><tr><td>13</td><td>0</td><td>18</td><td>4</td><td>3157</td><td>51</td><td>38</td><td>21</td><td>3</td><td>1</td><td>1</td><td>30</td><td>280.32</td><td>0</td><td>&quot;Medium&quot;</td></tr><tr><td>7</td><td>0</td><td>11</td><td>2</td><td>4695</td><td>46</td><td>222</td><td>12</td><td>3</td><td>1</td><td>1</td><td>30</td><td>1077.64</td><td>0</td><td>&quot;Medium&quot;</td></tr><tr><td>8</td><td>1</td><td>11</td><td>2</td><td>1792</td><td>25</td><td>7</td><td>9</td><td>3</td><td>1</td><td>1</td><td>30</td><td>100.68</td><td>1</td><td>&quot;Medium&quot;</td></tr></tbody></table></div>"
      ],
      "text/plain": [
       "shape: (3_150, 15)\n",
       "┌──────────────┬────────────┬─────────────────────┬───────────────┬───┬─────┬────────────────┬───────┬─────────────┐\n",
       "│ Call Failure ┆ Complaints ┆ Subscription Length ┆ Charge Amount ┆ … ┆ Age ┆ Customer Value ┆ Churn ┆ Call length │\n",
       "│ ---          ┆ ---        ┆ ---                 ┆ ---           ┆   ┆ --- ┆ ---            ┆ ---   ┆ ---         │\n",
       "│ i64          ┆ i64        ┆ i64                 ┆ i64           ┆   ┆ i64 ┆ f64            ┆ i64   ┆ str         │\n",
       "╞══════════════╪════════════╪═════════════════════╪═══════════════╪═══╪═════╪════════════════╪═══════╪═════════════╡\n",
       "│ 8            ┆ 0          ┆ 38                  ┆ 0             ┆ … ┆ 30  ┆ 197.64         ┆ 0     ┆ Medium      │\n",
       "│ 0            ┆ 0          ┆ 39                  ┆ 0             ┆ … ┆ 25  ┆ 46.035         ┆ 0     ┆ Medium      │\n",
       "│ 10           ┆ 0          ┆ 37                  ┆ 0             ┆ … ┆ 30  ┆ 1536.52        ┆ 0     ┆ Medium      │\n",
       "│ 10           ┆ 0          ┆ 38                  ┆ 0             ┆ … ┆ 15  ┆ 240.02         ┆ 0     ┆ Medium      │\n",
       "│ …            ┆ …          ┆ …                   ┆ …             ┆ … ┆ …   ┆ …              ┆ …     ┆ …           │\n",
       "│ 17           ┆ 0          ┆ 17                  ┆ 1             ┆ … ┆ 55  ┆ 261.21         ┆ 0     ┆ Long        │\n",
       "│ 13           ┆ 0          ┆ 18                  ┆ 4             ┆ … ┆ 30  ┆ 280.32         ┆ 0     ┆ Medium      │\n",
       "│ 7            ┆ 0          ┆ 11                  ┆ 2             ┆ … ┆ 30  ┆ 1077.64        ┆ 0     ┆ Medium      │\n",
       "│ 8            ┆ 1          ┆ 11                  ┆ 2             ┆ … ┆ 30  ┆ 100.68         ┆ 1     ┆ Medium      │\n",
       "└──────────────┴────────────┴─────────────────────┴───────────────┴───┴─────┴────────────────┴───────┴─────────────┘"
      ]
     },
     "execution_count": 20,
     "metadata": {},
     "output_type": "execute_result"
    }
   ],
   "source": [
    "# Create a plot visualizing the number of distinct phone calls by age group. \n",
    "# Within the chart, differentiate between short, medium, and long calls (by the number of seconds).\n",
    "# find mean of seconds of use\n",
    "# find std of seconds of use\n",
    "# mean - std can be used to compare with the original seconds of use values\n",
    "\n",
    "mean = df.select(pl.col(\"Seconds of Use\")).mean()\n",
    "std = df.select(pl.col(\"Seconds of Use\")).std()\n",
    "\n",
    "\n",
    "\n",
    "df = df.with_columns(\n",
    "    pl.when(pl.col(\"Seconds of Use\") < mean - std).then(\"Short\")\n",
    "    .when((mean - std <= pl.col(\"Seconds of Use\")) & (pl.col(\"Seconds of Use\") <= mean + std)).then(\"Medium\")\n",
    "    .when(pl.col(\"Seconds of Use\") >= mean + std).then(\"Long\")\n",
    "    .alias(\"Call length\")\n",
    ")\n",
    "\n",
    "df \n",
    "\n"
   ]
  },
  {
   "cell_type": "code",
   "execution_count": 21,
   "id": "60312d46",
   "metadata": {},
   "outputs": [
    {
     "data": {
      "text/html": [
       "<div><style>\n",
       ".dataframe > thead > tr,\n",
       ".dataframe > tbody > tr {\n",
       "  text-align: right;\n",
       "  white-space: pre-wrap;\n",
       "}\n",
       "</style>\n",
       "<small>shape: (3_150, 3)</small><table border=\"1\" class=\"dataframe\"><thead><tr><th>Age Group</th><th>Distinct Called Numbers</th><th>Call length</th></tr><tr><td>i64</td><td>i64</td><td>str</td></tr></thead><tbody><tr><td>3</td><td>17</td><td>&quot;Medium&quot;</td></tr><tr><td>2</td><td>4</td><td>&quot;Medium&quot;</td></tr><tr><td>3</td><td>24</td><td>&quot;Medium&quot;</td></tr><tr><td>1</td><td>35</td><td>&quot;Medium&quot;</td></tr><tr><td>1</td><td>33</td><td>&quot;Medium&quot;</td></tr><tr><td>3</td><td>28</td><td>&quot;Medium&quot;</td></tr><tr><td>3</td><td>18</td><td>&quot;Medium&quot;</td></tr><tr><td>3</td><td>43</td><td>&quot;Long&quot;</td></tr><tr><td>3</td><td>44</td><td>&quot;Long&quot;</td></tr><tr><td>3</td><td>25</td><td>&quot;Medium&quot;</td></tr><tr><td>3</td><td>12</td><td>&quot;Medium&quot;</td></tr><tr><td>3</td><td>17</td><td>&quot;Medium&quot;</td></tr><tr><td>&hellip;</td><td>&hellip;</td><td>&hellip;</td></tr><tr><td>3</td><td>13</td><td>&quot;Medium&quot;</td></tr><tr><td>5</td><td>70</td><td>&quot;Medium&quot;</td></tr><tr><td>3</td><td>9</td><td>&quot;Medium&quot;</td></tr><tr><td>4</td><td>5</td><td>&quot;Medium&quot;</td></tr><tr><td>2</td><td>15</td><td>&quot;Medium&quot;</td></tr><tr><td>3</td><td>25</td><td>&quot;Medium&quot;</td></tr><tr><td>3</td><td>16</td><td>&quot;Medium&quot;</td></tr><tr><td>2</td><td>44</td><td>&quot;Medium&quot;</td></tr><tr><td>5</td><td>42</td><td>&quot;Long&quot;</td></tr><tr><td>3</td><td>21</td><td>&quot;Medium&quot;</td></tr><tr><td>3</td><td>12</td><td>&quot;Medium&quot;</td></tr><tr><td>3</td><td>9</td><td>&quot;Medium&quot;</td></tr></tbody></table></div>"
      ],
      "text/plain": [
       "shape: (3_150, 3)\n",
       "┌───────────┬─────────────────────────┬─────────────┐\n",
       "│ Age Group ┆ Distinct Called Numbers ┆ Call length │\n",
       "│ ---       ┆ ---                     ┆ ---         │\n",
       "│ i64       ┆ i64                     ┆ str         │\n",
       "╞═══════════╪═════════════════════════╪═════════════╡\n",
       "│ 3         ┆ 17                      ┆ Medium      │\n",
       "│ 2         ┆ 4                       ┆ Medium      │\n",
       "│ 3         ┆ 24                      ┆ Medium      │\n",
       "│ 1         ┆ 35                      ┆ Medium      │\n",
       "│ …         ┆ …                       ┆ …           │\n",
       "│ 5         ┆ 42                      ┆ Long        │\n",
       "│ 3         ┆ 21                      ┆ Medium      │\n",
       "│ 3         ┆ 12                      ┆ Medium      │\n",
       "│ 3         ┆ 9                       ┆ Medium      │\n",
       "└───────────┴─────────────────────────┴─────────────┘"
      ]
     },
     "execution_count": 21,
     "metadata": {},
     "output_type": "execute_result"
    }
   ],
   "source": [
    "# Create a plot visualizing the number of distinct phone calls by age group. \n",
    "# Within the chart, differentiate between short, medium, and long calls (by the number of seconds).\n",
    "plot_graph = df.select(\n",
    "    pl.col(\"Age Group\"),\n",
    "    pl.col(\"Distinct Called Numbers\"),\n",
    "    pl.col(\"Call length\")\n",
    "\n",
    ")\n",
    "\n",
    "plot_graph"
   ]
  },
  {
   "cell_type": "code",
   "execution_count": 22,
   "id": "7ed34605",
   "metadata": {},
   "outputs": [
    {
     "data": {
      "text/html": [
       "<div><style>\n",
       ".dataframe > thead > tr,\n",
       ".dataframe > tbody > tr {\n",
       "  text-align: right;\n",
       "  white-space: pre-wrap;\n",
       "}\n",
       "</style>\n",
       "<small>shape: (5, 3)</small><table border=\"1\" class=\"dataframe\"><thead><tr><th>Age Group</th><th>Distinct Called Numbers</th><th>Call length</th></tr><tr><td>i64</td><td>i64</td><td>list[str]</td></tr></thead><tbody><tr><td>3</td><td>30641</td><td>[&quot;Medium&quot;]</td></tr><tr><td>4</td><td>10304</td><td>[&quot;Medium&quot;]</td></tr><tr><td>1</td><td>4222</td><td>[&quot;Medium&quot;]</td></tr><tr><td>5</td><td>5053</td><td>[&quot;Medium&quot;]</td></tr><tr><td>2</td><td>23836</td><td>[&quot;Medium&quot;]</td></tr></tbody></table></div>"
      ],
      "text/plain": [
       "shape: (5, 3)\n",
       "┌───────────┬─────────────────────────┬─────────────┐\n",
       "│ Age Group ┆ Distinct Called Numbers ┆ Call length │\n",
       "│ ---       ┆ ---                     ┆ ---         │\n",
       "│ i64       ┆ i64                     ┆ list[str]   │\n",
       "╞═══════════╪═════════════════════════╪═════════════╡\n",
       "│ 3         ┆ 30641                   ┆ [\"Medium\"]  │\n",
       "│ 4         ┆ 10304                   ┆ [\"Medium\"]  │\n",
       "│ 1         ┆ 4222                    ┆ [\"Medium\"]  │\n",
       "│ 5         ┆ 5053                    ┆ [\"Medium\"]  │\n",
       "│ 2         ┆ 23836                   ┆ [\"Medium\"]  │\n",
       "└───────────┴─────────────────────────┴─────────────┘"
      ]
     },
     "execution_count": 22,
     "metadata": {},
     "output_type": "execute_result"
    }
   ],
   "source": [
    "# group the age group and call length by distinct called numbers\n",
    "plot_graph = df.group_by(\"Age Group\").agg(\n",
    "    pl.col(\"Distinct Called Numbers\").sum(),\n",
    "    pl.col(\"Call length\").mode()\n",
    "    \n",
    ")\n",
    "\n",
    "plot_graph\n"
   ]
  },
  {
   "cell_type": "code",
   "execution_count": 24,
   "id": "75c8f76a",
   "metadata": {},
   "outputs": [
    {
     "ename": "TypeError",
     "evalue": "unhashable type: 'numpy.ndarray'",
     "output_type": "error",
     "traceback": [
      "\u001b[1;31m---------------------------------------------------------------------------\u001b[0m",
      "\u001b[1;31mAttributeError\u001b[0m                            Traceback (most recent call last)",
      "File \u001b[1;32m~\\anaconda3\\Lib\\site-packages\\seaborn\\_oldcore.py:1759\u001b[0m, in \u001b[0;36mcategorical_order\u001b[1;34m(vector, order)\u001b[0m\n\u001b[0;32m   1758\u001b[0m \u001b[38;5;28;01mtry\u001b[39;00m:\n\u001b[1;32m-> 1759\u001b[0m     order \u001b[38;5;241m=\u001b[39m vector\u001b[38;5;241m.\u001b[39mcat\u001b[38;5;241m.\u001b[39mcategories\n\u001b[0;32m   1760\u001b[0m \u001b[38;5;28;01mexcept\u001b[39;00m (\u001b[38;5;167;01mTypeError\u001b[39;00m, \u001b[38;5;167;01mAttributeError\u001b[39;00m):\n",
      "File \u001b[1;32m~\\anaconda3\\Lib\\site-packages\\pandas\\core\\generic.py:5989\u001b[0m, in \u001b[0;36mNDFrame.__getattr__\u001b[1;34m(self, name)\u001b[0m\n\u001b[0;32m   5988\u001b[0m     \u001b[38;5;28;01mreturn\u001b[39;00m \u001b[38;5;28mself\u001b[39m[name]\n\u001b[1;32m-> 5989\u001b[0m \u001b[38;5;28;01mreturn\u001b[39;00m \u001b[38;5;28mobject\u001b[39m\u001b[38;5;241m.\u001b[39m\u001b[38;5;21m__getattribute__\u001b[39m(\u001b[38;5;28mself\u001b[39m, name)\n",
      "File \u001b[1;32m~\\anaconda3\\Lib\\site-packages\\pandas\\core\\accessor.py:224\u001b[0m, in \u001b[0;36mCachedAccessor.__get__\u001b[1;34m(self, obj, cls)\u001b[0m\n\u001b[0;32m    223\u001b[0m     \u001b[38;5;28;01mreturn\u001b[39;00m \u001b[38;5;28mself\u001b[39m\u001b[38;5;241m.\u001b[39m_accessor\n\u001b[1;32m--> 224\u001b[0m accessor_obj \u001b[38;5;241m=\u001b[39m \u001b[38;5;28mself\u001b[39m\u001b[38;5;241m.\u001b[39m_accessor(obj)\n\u001b[0;32m    225\u001b[0m \u001b[38;5;66;03m# Replace the property with the accessor object. Inspired by:\u001b[39;00m\n\u001b[0;32m    226\u001b[0m \u001b[38;5;66;03m# https://www.pydanny.com/cached-property.html\u001b[39;00m\n\u001b[0;32m    227\u001b[0m \u001b[38;5;66;03m# We need to use object.__setattr__ because we overwrite __setattr__ on\u001b[39;00m\n\u001b[0;32m    228\u001b[0m \u001b[38;5;66;03m# NDFrame\u001b[39;00m\n",
      "File \u001b[1;32m~\\anaconda3\\Lib\\site-packages\\pandas\\core\\arrays\\categorical.py:2445\u001b[0m, in \u001b[0;36mCategoricalAccessor.__init__\u001b[1;34m(self, data)\u001b[0m\n\u001b[0;32m   2444\u001b[0m \u001b[38;5;28;01mdef\u001b[39;00m \u001b[38;5;21m__init__\u001b[39m(\u001b[38;5;28mself\u001b[39m, data) \u001b[38;5;241m-\u001b[39m\u001b[38;5;241m>\u001b[39m \u001b[38;5;28;01mNone\u001b[39;00m:\n\u001b[1;32m-> 2445\u001b[0m     \u001b[38;5;28mself\u001b[39m\u001b[38;5;241m.\u001b[39m_validate(data)\n\u001b[0;32m   2446\u001b[0m     \u001b[38;5;28mself\u001b[39m\u001b[38;5;241m.\u001b[39m_parent \u001b[38;5;241m=\u001b[39m data\u001b[38;5;241m.\u001b[39mvalues\n",
      "File \u001b[1;32m~\\anaconda3\\Lib\\site-packages\\pandas\\core\\arrays\\categorical.py:2454\u001b[0m, in \u001b[0;36mCategoricalAccessor._validate\u001b[1;34m(data)\u001b[0m\n\u001b[0;32m   2453\u001b[0m \u001b[38;5;28;01mif\u001b[39;00m \u001b[38;5;129;01mnot\u001b[39;00m is_categorical_dtype(data\u001b[38;5;241m.\u001b[39mdtype):\n\u001b[1;32m-> 2454\u001b[0m     \u001b[38;5;28;01mraise\u001b[39;00m \u001b[38;5;167;01mAttributeError\u001b[39;00m(\u001b[38;5;124m\"\u001b[39m\u001b[38;5;124mCan only use .cat accessor with a \u001b[39m\u001b[38;5;124m'\u001b[39m\u001b[38;5;124mcategory\u001b[39m\u001b[38;5;124m'\u001b[39m\u001b[38;5;124m dtype\u001b[39m\u001b[38;5;124m\"\u001b[39m)\n",
      "\u001b[1;31mAttributeError\u001b[0m: Can only use .cat accessor with a 'category' dtype",
      "\nDuring handling of the above exception, another exception occurred:\n",
      "\u001b[1;31mTypeError\u001b[0m                                 Traceback (most recent call last)",
      "Cell \u001b[1;32mIn[24], line 2\u001b[0m\n\u001b[0;32m      1\u001b[0m plot_graph\n\u001b[1;32m----> 2\u001b[0m sns\u001b[38;5;241m.\u001b[39mbarplot(plot_graph\u001b[38;5;241m.\u001b[39mto_pandas(), x \u001b[38;5;241m=\u001b[39m \u001b[38;5;124m\"\u001b[39m\u001b[38;5;124mAge Group\u001b[39m\u001b[38;5;124m\"\u001b[39m, y \u001b[38;5;241m=\u001b[39m \u001b[38;5;124m\"\u001b[39m\u001b[38;5;124mDistinct Called Numbers\u001b[39m\u001b[38;5;124m\"\u001b[39m,hue \u001b[38;5;241m=\u001b[39m \u001b[38;5;124m\"\u001b[39m\u001b[38;5;124mCall length\u001b[39m\u001b[38;5;124m\"\u001b[39m)\n\u001b[0;32m      3\u001b[0m plt\u001b[38;5;241m.\u001b[39mtitle(\u001b[38;5;124m\"\u001b[39m\u001b[38;5;124mNum of distinct phone calls by age group\u001b[39m\u001b[38;5;124m\"\u001b[39m)\n",
      "File \u001b[1;32m~\\anaconda3\\Lib\\site-packages\\seaborn\\categorical.py:2755\u001b[0m, in \u001b[0;36mbarplot\u001b[1;34m(data, x, y, hue, order, hue_order, estimator, errorbar, n_boot, units, seed, orient, color, palette, saturation, width, errcolor, errwidth, capsize, dodge, ci, ax, **kwargs)\u001b[0m\n\u001b[0;32m   2752\u001b[0m \u001b[38;5;28;01mif\u001b[39;00m estimator \u001b[38;5;129;01mis\u001b[39;00m \u001b[38;5;28mlen\u001b[39m:\n\u001b[0;32m   2753\u001b[0m     estimator \u001b[38;5;241m=\u001b[39m \u001b[38;5;124m\"\u001b[39m\u001b[38;5;124msize\u001b[39m\u001b[38;5;124m\"\u001b[39m\n\u001b[1;32m-> 2755\u001b[0m plotter \u001b[38;5;241m=\u001b[39m _BarPlotter(x, y, hue, data, order, hue_order,\n\u001b[0;32m   2756\u001b[0m                       estimator, errorbar, n_boot, units, seed,\n\u001b[0;32m   2757\u001b[0m                       orient, color, palette, saturation,\n\u001b[0;32m   2758\u001b[0m                       width, errcolor, errwidth, capsize, dodge)\n\u001b[0;32m   2760\u001b[0m \u001b[38;5;28;01mif\u001b[39;00m ax \u001b[38;5;129;01mis\u001b[39;00m \u001b[38;5;28;01mNone\u001b[39;00m:\n\u001b[0;32m   2761\u001b[0m     ax \u001b[38;5;241m=\u001b[39m plt\u001b[38;5;241m.\u001b[39mgca()\n",
      "File \u001b[1;32m~\\anaconda3\\Lib\\site-packages\\seaborn\\categorical.py:1530\u001b[0m, in \u001b[0;36m_BarPlotter.__init__\u001b[1;34m(self, x, y, hue, data, order, hue_order, estimator, errorbar, n_boot, units, seed, orient, color, palette, saturation, width, errcolor, errwidth, capsize, dodge)\u001b[0m\n\u001b[0;32m   1525\u001b[0m \u001b[38;5;28;01mdef\u001b[39;00m \u001b[38;5;21m__init__\u001b[39m(\u001b[38;5;28mself\u001b[39m, x, y, hue, data, order, hue_order,\n\u001b[0;32m   1526\u001b[0m              estimator, errorbar, n_boot, units, seed,\n\u001b[0;32m   1527\u001b[0m              orient, color, palette, saturation, width,\n\u001b[0;32m   1528\u001b[0m              errcolor, errwidth, capsize, dodge):\n\u001b[0;32m   1529\u001b[0m \u001b[38;5;250m    \u001b[39m\u001b[38;5;124;03m\"\"\"Initialize the plotter.\"\"\"\u001b[39;00m\n\u001b[1;32m-> 1530\u001b[0m     \u001b[38;5;28mself\u001b[39m\u001b[38;5;241m.\u001b[39mestablish_variables(x, y, hue, data, orient,\n\u001b[0;32m   1531\u001b[0m                              order, hue_order, units)\n\u001b[0;32m   1532\u001b[0m     \u001b[38;5;28mself\u001b[39m\u001b[38;5;241m.\u001b[39mestablish_colors(color, palette, saturation)\n\u001b[0;32m   1533\u001b[0m     \u001b[38;5;28mself\u001b[39m\u001b[38;5;241m.\u001b[39mestimate_statistic(estimator, errorbar, n_boot, seed)\n",
      "File \u001b[1;32m~\\anaconda3\\Lib\\site-packages\\seaborn\\categorical.py:605\u001b[0m, in \u001b[0;36m_CategoricalPlotter.establish_variables\u001b[1;34m(self, x, y, hue, data, orient, order, hue_order, units)\u001b[0m\n\u001b[0;32m    601\u001b[0m     hue_names \u001b[38;5;241m=\u001b[39m \u001b[38;5;28;01mNone\u001b[39;00m\n\u001b[0;32m    602\u001b[0m \u001b[38;5;28;01melse\u001b[39;00m:\n\u001b[0;32m    603\u001b[0m \n\u001b[0;32m    604\u001b[0m     \u001b[38;5;66;03m# Get the order of the hue levels\u001b[39;00m\n\u001b[1;32m--> 605\u001b[0m     hue_names \u001b[38;5;241m=\u001b[39m categorical_order(hue, hue_order)\n\u001b[0;32m    607\u001b[0m     \u001b[38;5;66;03m# Group the hue data\u001b[39;00m\n\u001b[0;32m    608\u001b[0m     plot_hues, hue_title \u001b[38;5;241m=\u001b[39m \u001b[38;5;28mself\u001b[39m\u001b[38;5;241m.\u001b[39m_group_longform(hue, groups,\n\u001b[0;32m    609\u001b[0m                                                 group_names)\n",
      "File \u001b[1;32m~\\anaconda3\\Lib\\site-packages\\seaborn\\_oldcore.py:1763\u001b[0m, in \u001b[0;36mcategorical_order\u001b[1;34m(vector, order)\u001b[0m\n\u001b[0;32m   1760\u001b[0m \u001b[38;5;28;01mexcept\u001b[39;00m (\u001b[38;5;167;01mTypeError\u001b[39;00m, \u001b[38;5;167;01mAttributeError\u001b[39;00m):\n\u001b[0;32m   1762\u001b[0m     \u001b[38;5;28;01mtry\u001b[39;00m:\n\u001b[1;32m-> 1763\u001b[0m         order \u001b[38;5;241m=\u001b[39m vector\u001b[38;5;241m.\u001b[39munique()\n\u001b[0;32m   1764\u001b[0m     \u001b[38;5;28;01mexcept\u001b[39;00m \u001b[38;5;167;01mAttributeError\u001b[39;00m:\n\u001b[0;32m   1765\u001b[0m         order \u001b[38;5;241m=\u001b[39m pd\u001b[38;5;241m.\u001b[39munique(vector)\n",
      "File \u001b[1;32m~\\anaconda3\\Lib\\site-packages\\pandas\\core\\series.py:2194\u001b[0m, in \u001b[0;36mSeries.unique\u001b[1;34m(self)\u001b[0m\n\u001b[0;32m   2131\u001b[0m \u001b[38;5;28;01mdef\u001b[39;00m \u001b[38;5;21munique\u001b[39m(\u001b[38;5;28mself\u001b[39m) \u001b[38;5;241m-\u001b[39m\u001b[38;5;241m>\u001b[39m ArrayLike:  \u001b[38;5;66;03m# pylint: disable=useless-parent-delegation\u001b[39;00m\n\u001b[0;32m   2132\u001b[0m \u001b[38;5;250m    \u001b[39m\u001b[38;5;124;03m\"\"\"\u001b[39;00m\n\u001b[0;32m   2133\u001b[0m \u001b[38;5;124;03m    Return unique values of Series object.\u001b[39;00m\n\u001b[0;32m   2134\u001b[0m \n\u001b[1;32m   (...)\u001b[0m\n\u001b[0;32m   2192\u001b[0m \u001b[38;5;124;03m    Categories (3, object): ['a' < 'b' < 'c']\u001b[39;00m\n\u001b[0;32m   2193\u001b[0m \u001b[38;5;124;03m    \"\"\"\u001b[39;00m\n\u001b[1;32m-> 2194\u001b[0m     \u001b[38;5;28;01mreturn\u001b[39;00m \u001b[38;5;28msuper\u001b[39m()\u001b[38;5;241m.\u001b[39munique()\n",
      "File \u001b[1;32m~\\anaconda3\\Lib\\site-packages\\pandas\\core\\base.py:1030\u001b[0m, in \u001b[0;36mIndexOpsMixin.unique\u001b[1;34m(self)\u001b[0m\n\u001b[0;32m   1028\u001b[0m     result \u001b[38;5;241m=\u001b[39m values\u001b[38;5;241m.\u001b[39munique()\n\u001b[0;32m   1029\u001b[0m \u001b[38;5;28;01melse\u001b[39;00m:\n\u001b[1;32m-> 1030\u001b[0m     result \u001b[38;5;241m=\u001b[39m algorithms\u001b[38;5;241m.\u001b[39munique1d(values)\n\u001b[0;32m   1031\u001b[0m \u001b[38;5;28;01mreturn\u001b[39;00m result\n",
      "File \u001b[1;32m~\\anaconda3\\Lib\\site-packages\\pandas\\core\\algorithms.py:390\u001b[0m, in \u001b[0;36munique\u001b[1;34m(values)\u001b[0m\n\u001b[0;32m    296\u001b[0m \u001b[38;5;28;01mdef\u001b[39;00m \u001b[38;5;21munique\u001b[39m(values):\n\u001b[0;32m    297\u001b[0m \u001b[38;5;250m    \u001b[39m\u001b[38;5;124;03m\"\"\"\u001b[39;00m\n\u001b[0;32m    298\u001b[0m \u001b[38;5;124;03m    Return unique values based on a hash table.\u001b[39;00m\n\u001b[0;32m    299\u001b[0m \n\u001b[1;32m   (...)\u001b[0m\n\u001b[0;32m    388\u001b[0m \u001b[38;5;124;03m    array([('a', 'b'), ('b', 'a'), ('a', 'c')], dtype=object)\u001b[39;00m\n\u001b[0;32m    389\u001b[0m \u001b[38;5;124;03m    \"\"\"\u001b[39;00m\n\u001b[1;32m--> 390\u001b[0m     \u001b[38;5;28;01mreturn\u001b[39;00m unique_with_mask(values)\n",
      "File \u001b[1;32m~\\anaconda3\\Lib\\site-packages\\pandas\\core\\algorithms.py:429\u001b[0m, in \u001b[0;36munique_with_mask\u001b[1;34m(values, mask)\u001b[0m\n\u001b[0;32m    427\u001b[0m table \u001b[38;5;241m=\u001b[39m hashtable(\u001b[38;5;28mlen\u001b[39m(values))\n\u001b[0;32m    428\u001b[0m \u001b[38;5;28;01mif\u001b[39;00m mask \u001b[38;5;129;01mis\u001b[39;00m \u001b[38;5;28;01mNone\u001b[39;00m:\n\u001b[1;32m--> 429\u001b[0m     uniques \u001b[38;5;241m=\u001b[39m table\u001b[38;5;241m.\u001b[39munique(values)\n\u001b[0;32m    430\u001b[0m     uniques \u001b[38;5;241m=\u001b[39m _reconstruct_data(uniques, original\u001b[38;5;241m.\u001b[39mdtype, original)\n\u001b[0;32m    431\u001b[0m     \u001b[38;5;28;01mreturn\u001b[39;00m uniques\n",
      "File \u001b[1;32mpandas\\_libs\\hashtable_class_helper.pxi:7247\u001b[0m, in \u001b[0;36mpandas._libs.hashtable.PyObjectHashTable.unique\u001b[1;34m()\u001b[0m\n",
      "File \u001b[1;32mpandas\\_libs\\hashtable_class_helper.pxi:7194\u001b[0m, in \u001b[0;36mpandas._libs.hashtable.PyObjectHashTable._unique\u001b[1;34m()\u001b[0m\n",
      "\u001b[1;31mTypeError\u001b[0m: unhashable type: 'numpy.ndarray'"
     ]
    }
   ],
   "source": [
    "plot_graph\n",
    "sns.barplot(plot_graph.to_pandas(), x = \"Age Group\", y = \"Distinct Called Numbers\",hue = \"Call length\")\n",
    "plt.title(\"Num of distinct phone calls by age group\")\n",
    "\n",
    "# Couldn't get this to work in polars no matter how much I researched\n",
    "# For some reason hue paremeter doesn't work in polars. If I remove hue, the graph works. \n",
    "# Solutions all say to just convert the graph to pandas and it works but couldn't get it to work\n"
   ]
  },
  {
   "cell_type": "code",
   "execution_count": 25,
   "id": "2417fed7",
   "metadata": {},
   "outputs": [
    {
     "data": {
      "text/html": [
       "<div><style>\n",
       ".dataframe > thead > tr,\n",
       ".dataframe > tbody > tr {\n",
       "  text-align: right;\n",
       "  white-space: pre-wrap;\n",
       "}\n",
       "</style>\n",
       "<small>shape: (2, 2)</small><table border=\"1\" class=\"dataframe\"><thead><tr><th>Tariff Plan</th><th>Seconds of Use</th></tr><tr><td>i64</td><td>f64</td></tr></thead><tbody><tr><td>2</td><td>6403.261224</td></tr><tr><td>1</td><td>4309.620998</td></tr></tbody></table></div>"
      ],
      "text/plain": [
       "shape: (2, 2)\n",
       "┌─────────────┬────────────────┐\n",
       "│ Tariff Plan ┆ Seconds of Use │\n",
       "│ ---         ┆ ---            │\n",
       "│ i64         ┆ f64            │\n",
       "╞═════════════╪════════════════╡\n",
       "│ 2           ┆ 6403.261224    │\n",
       "│ 1           ┆ 4309.620998    │\n",
       "└─────────────┴────────────────┘"
      ]
     },
     "execution_count": 25,
     "metadata": {},
     "output_type": "execute_result"
    }
   ],
   "source": [
    "# Are there significant differences between the length of phone calls between different tariff plans?\n",
    "tariff_plan_data = df.group_by(\"Tariff Plan\").agg(\n",
    "    pl.col(\"Seconds of Use\").mean()\n",
    ")\n",
    "\n",
    "tariff_plan_data\n",
    "# Avg call length is longer on Tariff plan 2\n"
   ]
  },
  {
   "cell_type": "code",
   "execution_count": 26,
   "id": "2d7ab6d8",
   "metadata": {},
   "outputs": [
    {
     "data": {
      "text/html": [
       "<div><style>\n",
       ".dataframe > thead > tr,\n",
       ".dataframe > tbody > tr {\n",
       "  text-align: right;\n",
       "  white-space: pre-wrap;\n",
       "}\n",
       "</style>\n",
       "<small>shape: (2, 3)</small><table border=\"1\" class=\"dataframe\"><thead><tr><th>Tariff Plan</th><th>Seconds of Use</th><th>pct change</th></tr><tr><td>i64</td><td>f64</td><td>f64</td></tr></thead><tbody><tr><td>2</td><td>6403.261224</td><td>null</td></tr><tr><td>1</td><td>4309.620998</td><td>-32.696468</td></tr></tbody></table></div>"
      ],
      "text/plain": [
       "shape: (2, 3)\n",
       "┌─────────────┬────────────────┬────────────┐\n",
       "│ Tariff Plan ┆ Seconds of Use ┆ pct change │\n",
       "│ ---         ┆ ---            ┆ ---        │\n",
       "│ i64         ┆ f64            ┆ f64        │\n",
       "╞═════════════╪════════════════╪════════════╡\n",
       "│ 2           ┆ 6403.261224    ┆ null       │\n",
       "│ 1           ┆ 4309.620998    ┆ -32.696468 │\n",
       "└─────────────┴────────────────┴────────────┘"
      ]
     },
     "execution_count": 26,
     "metadata": {},
     "output_type": "execute_result"
    }
   ],
   "source": [
    "tariff_plan_data.with_columns(\n",
    "    (pl.col(\"Seconds of Use\").pct_change() * 100).alias(\"pct change\")\n",
    "\n",
    ")\n",
    "\n",
    "# Avg call length is longer by approx 48%"
   ]
  },
  {
   "cell_type": "code",
   "execution_count": 27,
   "id": "53038585",
   "metadata": {},
   "outputs": [
    {
     "data": {
      "text/html": [
       "<div><style>\n",
       ".dataframe > thead > tr,\n",
       ".dataframe > tbody > tr {\n",
       "  text-align: right;\n",
       "  white-space: pre-wrap;\n",
       "}\n",
       "</style>\n",
       "<small>shape: (2, 3)</small><table border=\"1\" class=\"dataframe\"><thead><tr><th>Churn</th><th>Call Failure</th><th>Complaints</th></tr><tr><td>i64</td><td>f64</td><td>u32</td></tr></thead><tbody><tr><td>1</td><td>7.476768</td><td>495</td></tr><tr><td>0</td><td>7.656121</td><td>2655</td></tr></tbody></table></div>"
      ],
      "text/plain": [
       "shape: (2, 3)\n",
       "┌───────┬──────────────┬────────────┐\n",
       "│ Churn ┆ Call Failure ┆ Complaints │\n",
       "│ ---   ┆ ---          ┆ ---        │\n",
       "│ i64   ┆ f64          ┆ u32        │\n",
       "╞═══════╪══════════════╪════════════╡\n",
       "│ 1     ┆ 7.476768     ┆ 495        │\n",
       "│ 0     ┆ 7.656121     ┆ 2655       │\n",
       "└───────┴──────────────┴────────────┘"
      ]
     },
     "execution_count": 27,
     "metadata": {},
     "output_type": "execute_result"
    }
   ],
   "source": [
    "# What effects Churn\n",
    "churn_data = df.group_by(\"Churn\").agg(\n",
    "    pl.col(\"Call Failure\").mean(),\n",
    "    pl.col(\"Complaints\").count()\n",
    ")\n",
    "\n",
    "churn_data\n",
    "\n"
   ]
  },
  {
   "cell_type": "code",
   "execution_count": 28,
   "id": "90d8bb86",
   "metadata": {},
   "outputs": [
    {
     "data": {
      "text/html": [
       "<div><style>\n",
       ".dataframe > thead > tr,\n",
       ".dataframe > tbody > tr {\n",
       "  text-align: right;\n",
       "  white-space: pre-wrap;\n",
       "}\n",
       "</style>\n",
       "<small>shape: (2, 5)</small><table border=\"1\" class=\"dataframe\"><thead><tr><th>Churn</th><th>Call Failure</th><th>Complaints</th><th>Call Failure %</th><th>Complaints %</th></tr><tr><td>i64</td><td>f64</td><td>u32</td><td>f64</td><td>f64</td></tr></thead><tbody><tr><td>1</td><td>7.476768</td><td>495</td><td>null</td><td>null</td></tr><tr><td>0</td><td>7.656121</td><td>2655</td><td>2.398802</td><td>436.363636</td></tr></tbody></table></div>"
      ],
      "text/plain": [
       "shape: (2, 5)\n",
       "┌───────┬──────────────┬────────────┬────────────────┬──────────────┐\n",
       "│ Churn ┆ Call Failure ┆ Complaints ┆ Call Failure % ┆ Complaints % │\n",
       "│ ---   ┆ ---          ┆ ---        ┆ ---            ┆ ---          │\n",
       "│ i64   ┆ f64          ┆ u32        ┆ f64            ┆ f64          │\n",
       "╞═══════╪══════════════╪════════════╪════════════════╪══════════════╡\n",
       "│ 1     ┆ 7.476768     ┆ 495        ┆ null           ┆ null         │\n",
       "│ 0     ┆ 7.656121     ┆ 2655       ┆ 2.398802       ┆ 436.363636   │\n",
       "└───────┴──────────────┴────────────┴────────────────┴──────────────┘"
      ]
     },
     "execution_count": 28,
     "metadata": {},
     "output_type": "execute_result"
    }
   ],
   "source": [
    "churn_data = churn_data.with_columns(\n",
    "    (pl.col(\"Call Failure\").pct_change() * 100).alias(\"Call Failure %\"),\n",
    "    (pl.col(\"Complaints\").pct_change() * 100).alias(\"Complaints %\")\n",
    ")\n",
    "\n",
    "churn_data\n",
    "# Those who don't Churn experience 2.39% more Call failures on avg and 436% more complaints\n",
    "# Shows no positive correlation between Churning and call failure/ complaints\n"
   ]
  },
  {
   "cell_type": "code",
   "execution_count": null,
   "id": "85e90548",
   "metadata": {},
   "outputs": [],
   "source": []
  }
 ],
 "metadata": {
  "kernelspec": {
   "display_name": "Python 3 (ipykernel)",
   "language": "python",
   "name": "python3"
  },
  "language_info": {
   "codemirror_mode": {
    "name": "ipython",
    "version": 3
   },
   "file_extension": ".py",
   "mimetype": "text/x-python",
   "name": "python",
   "nbconvert_exporter": "python",
   "pygments_lexer": "ipython3",
   "version": "3.11.5"
  }
 },
 "nbformat": 4,
 "nbformat_minor": 5
}
